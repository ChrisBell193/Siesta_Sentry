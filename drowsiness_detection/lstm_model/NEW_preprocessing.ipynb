{
 "cells": [
  {
   "cell_type": "markdown",
   "id": "1f3b07b4-e632-4700-8ea8-c8f49cf44626",
   "metadata": {},
   "source": [
    "# Josh image extraction"
   ]
  },
  {
   "cell_type": "markdown",
   "id": "477833e8-522e-4c28-92de-16fa06ab8abf",
   "metadata": {},
   "source": [
    "## Fold 1, part 1 and 2 (Subjects 01 to 12)"
   ]
  },
  {
   "cell_type": "markdown",
   "id": "45f9e084-8b07-4111-9a2c-bc81b63180a9",
   "metadata": {},
   "source": [
    "get 21 images for each video. 3 videos per person * 12 persons.\n",
    "\n",
    "filename = subject_status_imagenumber.jpg"
   ]
  },
  {
   "cell_type": "markdown",
   "id": "44df2a23-c842-43c2-bd6c-142357f46ec2",
   "metadata": {},
   "source": [
    "pip install opencv-python"
   ]
  },
  {
   "cell_type": "markdown",
   "id": "5b00e323-2cd1-4352-9c95-e68c970f2765",
   "metadata": {},
   "source": [
    "pip install uuid"
   ]
  },
  {
   "cell_type": "code",
   "execution_count": 1,
   "id": "33affe6a-545c-487b-b02b-fbc4eacf1d76",
   "metadata": {},
   "outputs": [],
   "source": [
    "import uuid   # Unique identifier\n",
    "import os\n",
    "import time\n",
    "import cv2\n",
    "import time"
   ]
  },
  {
   "cell_type": "markdown",
   "id": "72a10db9-8628-45d5-a7a9-7c403270f2b0",
   "metadata": {},
   "source": [
    "## 1. Generate List of Videos"
   ]
  },
  {
   "cell_type": "code",
   "execution_count": 2,
   "id": "ee1c999d-f0a5-406f-950a-ef651ec2a1f8",
   "metadata": {},
   "outputs": [],
   "source": [
    "def print_video_files(list_of_video_tuples):\n",
    "    for vid in list_of_video_tuples:\n",
    "        print(vid[0])\n",
    "    print(f\"You have {len(list_of_video_tuples)} videos in your list\")"
   ]
  },
  {
   "cell_type": "code",
   "execution_count": 2,
   "id": "c88be629-77d0-4201-81a1-70746f3ff507",
   "metadata": {},
   "outputs": [
    {
     "name": "stdout",
     "output_type": "stream",
     "text": [
      "[('videos_fold_1/4/0.mp4', '4', '0'), ('videos_fold_1/4/10.mp4', '4', '10'), ('videos_fold_1/4/5.mp4', '4', '5'), ('videos_fold_1/7/0.mp4', '7', '0'), ('videos_fold_1/7/10.mp4', '7', '10'), ('videos_fold_1/7/5.mp4', '7', '5'), ('videos_fold_1/12/0.mp4', '12', '0'), ('videos_fold_1/12/10.mp4', '12', '10'), ('videos_fold_1/12/5.mp4', '12', '5'), ('videos_fold_1/9/0.mp4', '9', '0'), ('videos_fold_1/9/10.mp4', '9', '10'), ('videos_fold_1/9/5.mp4', '9', '5'), ('videos_fold_1/5/0.mov', '5', '0'), ('videos_fold_1/5/10.mov', '5', '10'), ('videos_fold_1/5/5.mov', '5', '5'), ('videos_fold_1/11/0.mp4', '11', '0'), ('videos_fold_1/11/10.mp4', '11', '10'), ('videos_fold_1/11/5.mp4', '11', '5'), ('videos_fold_1/8/0.mp4', '8', '0'), ('videos_fold_1/8/10.mp4', '8', '10'), ('videos_fold_1/8/5.mp4', '8', '5'), ('videos_fold_1/2/0.mov', '2', '0'), ('videos_fold_1/2/10.mov', '2', '10'), ('videos_fold_1/2/5.mov', '2', '5'), ('videos_fold_1/10/0.mov', '10', '0'), ('videos_fold_1/10/10.mov', '10', '10'), ('videos_fold_1/10/5.mov', '10', '5'), ('videos_fold_1/1/0.mov', '1', '0'), ('videos_fold_1/1/10.mov', '1', '10'), ('videos_fold_1/1/5.mov', '1', '5'), ('videos_fold_1/6/0.mp4', '6', '0'), ('videos_fold_1/6/10.mp4', '6', '10'), ('videos_fold_1/6/5.mp4', '6', '5'), ('videos_fold_1/3/0.mov', '3', '0'), ('videos_fold_1/3/10.mov', '3', '10'), ('videos_fold_1/3/5.mov', '3', '5')]\n",
      "You have 36 videos in your list\n"
     ]
    }
   ],
   "source": [
    "def get_video_files(directory):\n",
    "    video_files = []\n",
    "    \n",
    "    for root, dirs, files in os.walk(directory):\n",
    "        for file in files:\n",
    "            # Check if the file has a video extension (you can add more extensions)\n",
    "            if file.lower().endswith(('.mp4', '.avi', '.mkv', '.mov')):\n",
    "                folder_name = os.path.basename(root)\n",
    "                video_title = os.path.splitext(file)[0]  # Remove file extension\n",
    "                video_files.append((os.path.join(root, file), folder_name, video_title))\n",
    "    \n",
    "    return video_files\n",
    "\n",
    "directory_path = \"videos_fold_1/\"\n",
    "video_tuples = get_video_files(directory_path)\n",
    "print(video_tuples)\n",
    "print(f\"You have {len(video_tuples)} videos in your list\")"
   ]
  },
  {
   "cell_type": "code",
   "execution_count": 4,
   "id": "703e46bc-8189-43d1-935e-93168abc4c51",
   "metadata": {
    "tags": []
   },
   "outputs": [
    {
     "name": "stdout",
     "output_type": "stream",
     "text": [
      "drowsiness_detection_fold_1/4/0.mp4\n",
      "drowsiness_detection_fold_1/4/10.mp4\n",
      "drowsiness_detection_fold_1/4/5.mp4\n",
      "drowsiness_detection_fold_1/7/0.mp4\n",
      "drowsiness_detection_fold_1/7/10.mp4\n",
      "drowsiness_detection_fold_1/7/5.mp4\n",
      "drowsiness_detection_fold_1/12/0.mp4\n",
      "drowsiness_detection_fold_1/12/10.mp4\n",
      "drowsiness_detection_fold_1/12/5.mp4\n",
      "drowsiness_detection_fold_1/9/0.mp4\n",
      "drowsiness_detection_fold_1/9/10.mp4\n",
      "drowsiness_detection_fold_1/9/5.mp4\n",
      "drowsiness_detection_fold_1/5/0.mov\n",
      "drowsiness_detection_fold_1/5/10.mov\n",
      "drowsiness_detection_fold_1/5/5.mov\n",
      "drowsiness_detection_fold_1/11/0.mp4\n",
      "drowsiness_detection_fold_1/11/10.mp4\n",
      "drowsiness_detection_fold_1/11/5.mp4\n",
      "drowsiness_detection_fold_1/8/0.mp4\n",
      "drowsiness_detection_fold_1/8/10.mp4\n",
      "drowsiness_detection_fold_1/8/5.mp4\n",
      "drowsiness_detection_fold_1/2/0.mov\n",
      "drowsiness_detection_fold_1/2/10.mov\n",
      "drowsiness_detection_fold_1/2/5.mov\n",
      "drowsiness_detection_fold_1/10/0.mov\n",
      "drowsiness_detection_fold_1/10/10.mov\n",
      "drowsiness_detection_fold_1/10/5.mov\n",
      "drowsiness_detection_fold_1/1/0.mov\n",
      "drowsiness_detection_fold_1/1/10.mov\n",
      "drowsiness_detection_fold_1/1/5.mov\n",
      "drowsiness_detection_fold_1/6/0.mp4\n",
      "drowsiness_detection_fold_1/6/10.mp4\n",
      "drowsiness_detection_fold_1/6/5.mp4\n",
      "drowsiness_detection_fold_1/3/0.mov\n",
      "drowsiness_detection_fold_1/3/10.mov\n",
      "drowsiness_detection_fold_1/3/5.mov\n",
      "You have 36 videos in your list\n"
     ]
    }
   ],
   "source": [
    "print_video_files(video_tuples)"
   ]
  },
  {
   "cell_type": "code",
   "execution_count": 5,
   "id": "063cc8a5-ad10-4d30-b372-43ca15d338ef",
   "metadata": {},
   "outputs": [],
   "source": [
    "def extract_equally_spaced_frames(video_path, output_folder, status_id, person_id, num_frames=21, quality=100):\n",
    "    \"\"\"\n",
    "    This function is designed to loop over a list of videos and generate screenshots from the video.\n",
    "    The image quality can be adjusted, recommended at least 70. num_frames means the number of \n",
    "    screenshots taken in each video. Each screenshot starts and ends 10 seconds into the video\n",
    "    and 10 seconds before the end of the video to remove device interaction frames.\n",
    "    \"\"\"\n",
    "    cap = cv2.VideoCapture(video_path)\n",
    "    total_frames = int(cap.get(cv2.CAP_PROP_FRAME_COUNT))\n",
    "    frame_rate = cap.get(cv2.CAP_PROP_FPS)\n",
    "    total_duration = total_frames / frame_rate\n",
    "    \n",
    "    start_time = 10  # Start capturing from 10 seconds\n",
    "    end_time = total_duration - 10  # Capture until 10 seconds before the end\n",
    "    capture_duration = end_time - start_time\n",
    "    time_between_frames = capture_duration / (num_frames - 1)\n",
    "    \n",
    "    if not os.path.exists(output_folder):\n",
    "        os.makedirs(output_folder)\n",
    "\n",
    "    for frame_index in range(num_frames):\n",
    "        capture_time = start_time + frame_index * time_between_frames\n",
    "        frame_idx = int(capture_time * frame_rate)\n",
    "        cap.set(cv2.CAP_PROP_POS_FRAMES, frame_idx)\n",
    "        success, frame = cap.read()\n",
    "\n",
    "        if success:\n",
    "            output_path = os.path.join(output_folder, status_id + '_' + person_id + '_' + str(uuid.uuid1()) + '.jpg')\n",
    "            cv2.imwrite(output_path, frame, [int(cv2.IMWRITE_JPEG_QUALITY), quality])  # Set quality to 100%\n",
    "            \n",
    "    cap.release()"
   ]
  },
  {
   "cell_type": "markdown",
   "id": "c9b55ba0-135f-475c-a203-91c8936a9347",
   "metadata": {},
   "source": [
    "## Generating the final images"
   ]
  },
  {
   "cell_type": "code",
   "execution_count": 6,
   "id": "62196d5f-c02d-4d42-8761-57e5808ca26c",
   "metadata": {
    "collapsed": true,
    "jupyter": {
     "outputs_hidden": true
    },
    "scrolled": true
   },
   "outputs": [
    {
     "name": "stdout",
     "output_type": "stream",
     "text": [
      "drowsiness_detection_fold_1/4/0.mp4 4 0\n",
      "drowsiness_detection_fold_1/4/10.mp4 4 10\n",
      "drowsiness_detection_fold_1/4/5.mp4 4 5\n",
      "drowsiness_detection_fold_1/7/0.mp4 7 0\n",
      "drowsiness_detection_fold_1/7/10.mp4 7 10\n",
      "drowsiness_detection_fold_1/7/5.mp4 7 5\n",
      "drowsiness_detection_fold_1/12/0.mp4 12 0\n",
      "drowsiness_detection_fold_1/12/10.mp4 12 10\n",
      "drowsiness_detection_fold_1/12/5.mp4 12 5\n",
      "drowsiness_detection_fold_1/9/0.mp4 9 0\n",
      "drowsiness_detection_fold_1/9/10.mp4 9 10\n",
      "drowsiness_detection_fold_1/9/5.mp4 9 5\n",
      "drowsiness_detection_fold_1/5/0.mov 5 0\n",
      "drowsiness_detection_fold_1/5/10.mov 5 10\n",
      "drowsiness_detection_fold_1/5/5.mov 5 5\n",
      "drowsiness_detection_fold_1/11/0.mp4 11 0\n",
      "drowsiness_detection_fold_1/11/10.mp4 11 10\n",
      "drowsiness_detection_fold_1/11/5.mp4 11 5\n",
      "drowsiness_detection_fold_1/8/0.mp4 8 0\n",
      "drowsiness_detection_fold_1/8/10.mp4 8 10\n",
      "drowsiness_detection_fold_1/8/5.mp4 8 5\n",
      "drowsiness_detection_fold_1/2/0.mov 2 0\n",
      "drowsiness_detection_fold_1/2/10.mov 2 10\n",
      "drowsiness_detection_fold_1/2/5.mov 2 5\n",
      "drowsiness_detection_fold_1/10/0.mov 10 0\n",
      "drowsiness_detection_fold_1/10/10.mov 10 10\n",
      "drowsiness_detection_fold_1/10/5.mov 10 5\n",
      "drowsiness_detection_fold_1/1/0.mov 1 0\n",
      "drowsiness_detection_fold_1/1/10.mov 1 10\n",
      "drowsiness_detection_fold_1/1/5.mov 1 5\n",
      "drowsiness_detection_fold_1/6/0.mp4 6 0\n",
      "drowsiness_detection_fold_1/6/10.mp4 6 10\n",
      "drowsiness_detection_fold_1/6/5.mp4 6 5\n",
      "drowsiness_detection_fold_1/3/0.mov 3 0\n",
      "drowsiness_detection_fold_1/3/10.mov 3 10\n",
      "drowsiness_detection_fold_1/3/5.mov 3 5\n",
      "Execution time: 211.8016 seconds\n"
     ]
    }
   ],
   "source": [
    "start_time = time.time()\n",
    "\n",
    "status_dict = {\n",
    "    '0': 'alert',\n",
    "    '5': 'normal',\n",
    "    '10': 'drowsy'\n",
    "}\n",
    "output_folder = \"drowsiness_detection_fold_1/output_images\"\n",
    "\n",
    "for video in video_tuples:\n",
    "    video_file_path = video[0]\n",
    "    person_id = video[1]\n",
    "    status = video[2]\n",
    "    print(video_file_path, person_id, status)\n",
    "    \n",
    "    extract_equally_spaced_frames(video_path=video_file_path, \n",
    "                                  output_folder=output_folder, \n",
    "                                  status_id=status_dict[status],            # status has to be the video filename with no extension\n",
    "                                  person_id=person_id,                      # person ID is the folder title\n",
    "                                  num_frames=21,\n",
    "                                  quality=100)\n",
    "\n",
    "end_time = time.time()\n",
    "execution_time = end_time - start_time\n",
    "print(f\"Execution time: {execution_time:.4f} seconds\")"
   ]
  },
  {
   "cell_type": "markdown",
   "id": "ac5cfddc-a989-4573-aede-c425ef592e8a",
   "metadata": {},
   "source": [
    "# Image Scaling and Coloring"
   ]
  },
  {
   "cell_type": "markdown",
   "id": "4e7e4e1d-1fda-4e32-a08e-8d7858e3363c",
   "metadata": {},
   "source": [
    "## Generating a list of images `(jpg and png only)`"
   ]
  },
  {
   "cell_type": "code",
   "execution_count": 14,
   "id": "4f71bd8f-7df5-4600-aa15-6ac54c66d8ab",
   "metadata": {
    "collapsed": true,
    "jupyter": {
     "outputs_hidden": true,
     "source_hidden": true
    },
    "scrolled": true
   },
   "outputs": [
    {
     "name": "stdout",
     "output_type": "stream",
     "text": [
      "['drowsiness_detection_fold_1/images_resize_test_input/alert_6_37083ef8-3fff-11ee-bae6-00155d5b6c22.jpg', 'drowsiness_detection_fold_1/images_resize_test_input/alert_4_2ebc74b2-3fff-11ee-bae6-00155d5b6c22.jpg', 'drowsiness_detection_fold_1/images_resize_test_input/alert_3_0946923a-3fff-11ee-bae6-00155d5b6c22.jpg', 'drowsiness_detection_fold_1/images_resize_test_input/alert_2_ff0eb626-3ffe-11ee-bae6-00155d5b6c22.jpg', 'drowsiness_detection_fold_1/images_resize_test_input/alert_6_3470e6a4-3fff-11ee-bae6-00155d5b6c22.jpg', 'drowsiness_detection_fold_1/images_resize_test_input/alert_2_ffa6b69c-3ffe-11ee-bae6-00155d5b6c22.jpg', 'drowsiness_detection_fold_1/images_resize_test_input/alert_3_0c14deb8-3fff-11ee-bae6-00155d5b6c22.jpg', 'drowsiness_detection_fold_1/images_resize_test_input/alert_6_363470dc-3fff-11ee-bae6-00155d5b6c22.jpg', 'drowsiness_detection_fold_1/images_resize_test_input/alert_3_09c26bbc-3fff-11ee-bae6-00155d5b6c22.jpg', 'drowsiness_detection_fold_1/images_resize_test_input/alert_5_1a912eba-3fff-11ee-bae6-00155d5b6c22.jpg', 'drowsiness_detection_fold_1/images_resize_test_input/alert_1_ebaa430c-3ffe-11ee-bae6-00155d5b6c22.jpg', 'drowsiness_detection_fold_1/images_resize_test_input/alert_3_0a63557c-3fff-11ee-bae6-00155d5b6c22.jpg', 'drowsiness_detection_fold_1/images_resize_test_input/alert_4_2f0bb9a0-3fff-11ee-bae6-00155d5b6c22.jpg', 'drowsiness_detection_fold_1/images_resize_test_input/alert_3_0c3e4a82-3fff-11ee-bae6-00155d5b6c22.jpg', 'drowsiness_detection_fold_1/images_resize_test_input/alert_4_2f174432-3fff-11ee-bae6-00155d5b6c22.jpg', 'drowsiness_detection_fold_1/images_resize_test_input/alert_6_369ae0ce-3fff-11ee-bae6-00155d5b6c22.jpg', 'drowsiness_detection_fold_1/images_resize_test_input/alert_1_ea82b4be-3ffe-11ee-bae6-00155d5b6c22.jpg', 'drowsiness_detection_fold_1/images_resize_test_input/alert_1_e9481364-3ffe-11ee-bae6-00155d5b6c22.jpg', 'drowsiness_detection_fold_1/images_resize_test_input/alert_6_3742f732-3fff-11ee-bae6-00155d5b6c22.jpg', 'drowsiness_detection_fold_1/images_resize_test_input/alert_3_0b65c9e6-3fff-11ee-bae6-00155d5b6c22.jpg', 'drowsiness_detection_fold_1/images_resize_test_input/alert_4_2eee6eb8-3fff-11ee-bae6-00155d5b6c22.jpg', 'drowsiness_detection_fold_1/images_resize_test_input/alert_2_ff3a9e6c-3ffe-11ee-bae6-00155d5b6c22.jpg', 'drowsiness_detection_fold_1/images_resize_test_input/alert_5_1b9f1218-3fff-11ee-bae6-00155d5b6c22.jpg', 'drowsiness_detection_fold_1/images_resize_test_input/alert_4_2ec1d5b0-3fff-11ee-bae6-00155d5b6c22.jpg', 'drowsiness_detection_fold_1/images_resize_test_input/alert_1_eaa7ac1a-3ffe-11ee-bae6-00155d5b6c22.jpg', 'drowsiness_detection_fold_1/images_resize_test_input/alert_6_3579b238-3fff-11ee-bae6-00155d5b6c22.jpg', 'drowsiness_detection_fold_1/images_resize_test_input/alert_2_fff3bdde-3ffe-11ee-bae6-00155d5b6c22.jpg', 'drowsiness_detection_fold_1/images_resize_test_input/alert_3_099e105a-3fff-11ee-bae6-00155d5b6c22.jpg', 'drowsiness_detection_fold_1/images_resize_test_input/alert_5_1b0c7b24-3fff-11ee-bae6-00155d5b6c22.jpg', 'drowsiness_detection_fold_1/images_resize_test_input/alert_3_0ab39d0c-3fff-11ee-bae6-00155d5b6c22.jpg', 'drowsiness_detection_fold_1/images_resize_test_input/alert_1_ec4f5e00-3ffe-11ee-bae6-00155d5b6c22.jpg', 'drowsiness_detection_fold_1/images_resize_test_input/alert_5_1ab5d26a-3fff-11ee-bae6-00155d5b6c22.jpg', 'drowsiness_detection_fold_1/images_resize_test_input/alert_1_e9f38636-3ffe-11ee-bae6-00155d5b6c22.jpg', 'drowsiness_detection_fold_1/images_resize_test_input/alert_1_ec6e82ee-3ffe-11ee-bae6-00155d5b6c22.jpg', 'drowsiness_detection_fold_1/images_resize_test_input/alert_4_2f05d2a6-3fff-11ee-bae6-00155d5b6c22.jpg', 'drowsiness_detection_fold_1/images_resize_test_input/alert_6_34b04038-3fff-11ee-bae6-00155d5b6c22.jpg', 'drowsiness_detection_fold_1/images_resize_test_input/alert_4_2f2e3494-3fff-11ee-bae6-00155d5b6c22.jpg', 'drowsiness_detection_fold_1/images_resize_test_input/alert_4_2ef9e46e-3fff-11ee-bae6-00155d5b6c22.jpg', 'drowsiness_detection_fold_1/images_resize_test_input/alert_1_e966810a-3ffe-11ee-bae6-00155d5b6c22.jpg', 'drowsiness_detection_fold_1/images_resize_test_input/alert_5_1b807d80-3fff-11ee-bae6-00155d5b6c22.jpg', 'drowsiness_detection_fold_1/images_resize_test_input/alert_2_fed94dba-3ffe-11ee-bae6-00155d5b6c22.jpg', 'drowsiness_detection_fold_1/images_resize_test_input/alert_2_ff8755c2-3ffe-11ee-bae6-00155d5b6c22.jpg', 'drowsiness_detection_fold_1/images_resize_test_input/alert_5_1acd8946-3fff-11ee-bae6-00155d5b6c22.jpg', 'drowsiness_detection_fold_1/images_resize_test_input/alert_6_35106080-3fff-11ee-bae6-00155d5b6c22.jpg', 'drowsiness_detection_fold_1/images_resize_test_input/alert_6_34e26ce8-3fff-11ee-bae6-00155d5b6c22.jpg', 'drowsiness_detection_fold_1/images_resize_test_input/alert_1_e98b67e0-3ffe-11ee-bae6-00155d5b6c22.jpg', 'drowsiness_detection_fold_1/images_resize_test_input/alert_3_0baffa0c-3fff-11ee-bae6-00155d5b6c22.jpg', 'drowsiness_detection_fold_1/images_resize_test_input/alert_1_e9bcfd64-3ffe-11ee-bae6-00155d5b6c22.jpg', 'drowsiness_detection_fold_1/images_resize_test_input/alert_3_0a42a75a-3fff-11ee-bae6-00155d5b6c22.jpg', 'drowsiness_detection_fold_1/images_resize_test_input/alert_6_353d537e-3fff-11ee-bae6-00155d5b6c22.jpg', 'drowsiness_detection_fold_1/images_resize_test_input/alert_6_35a39648-3fff-11ee-bae6-00155d5b6c22.jpg', 'drowsiness_detection_fold_1/images_resize_test_input/alert_5_1a6dbb24-3fff-11ee-bae6-00155d5b6c22.jpg', 'drowsiness_detection_fold_1/images_resize_test_input/alert_2_00422622-3fff-11ee-bae6-00155d5b6c22.jpg', 'drowsiness_detection_fold_1/images_resize_test_input/alert_3_096ce2f0-3fff-11ee-bae6-00155d5b6c22.jpg', 'drowsiness_detection_fold_1/images_resize_test_input/alert_3_09154720-3fff-11ee-bae6-00155d5b6c22.jpg', 'drowsiness_detection_fold_1/images_resize_test_input/alert_2_013abdd2-3fff-11ee-bae6-00155d5b6c22.jpg', 'drowsiness_detection_fold_1/images_resize_test_input/alert_4_2ef4ad78-3fff-11ee-bae6-00155d5b6c22.jpg', 'drowsiness_detection_fold_1/images_resize_test_input/alert_3_0ae2fda4-3fff-11ee-bae6-00155d5b6c22.jpg', 'drowsiness_detection_fold_1/images_resize_test_input/alert_1_eadcd796-3ffe-11ee-bae6-00155d5b6c22.jpg', 'drowsiness_detection_fold_1/images_resize_test_input/alert_3_0b83f650-3fff-11ee-bae6-00155d5b6c22.jpg', 'drowsiness_detection_fold_1/images_resize_test_input/alert_2_00ed33f0-3fff-11ee-bae6-00155d5b6c22.jpg', 'drowsiness_detection_fold_1/images_resize_test_input/alert_1_ebd78204-3ffe-11ee-bae6-00155d5b6c22.jpg', 'drowsiness_detection_fold_1/images_resize_test_input/alert_4_2eca43b2-3fff-11ee-bae6-00155d5b6c22.jpg', 'drowsiness_detection_fold_1/images_resize_test_input/alert_5_1aa5ce7e-3fff-11ee-bae6-00155d5b6c22.jpg', 'drowsiness_detection_fold_1/images_resize_test_input/alert_2_ffd33a5a-3ffe-11ee-bae6-00155d5b6c22.jpg', 'drowsiness_detection_fold_1/images_resize_test_input/alert_6_342934c6-3fff-11ee-bae6-00155d5b6c22.jpg', 'drowsiness_detection_fold_1/images_resize_test_input/alert_2_00922ed8-3fff-11ee-bae6-00155d5b6c22.jpg', 'drowsiness_detection_fold_1/images_resize_test_input/alert_4_2f1ffd8e-3fff-11ee-bae6-00155d5b6c22.jpg', 'drowsiness_detection_fold_1/images_resize_test_input/alert_3_0bcdef9e-3fff-11ee-bae6-00155d5b6c22.jpg', 'drowsiness_detection_fold_1/images_resize_test_input/alert_1_eb6396d2-3ffe-11ee-bae6-00155d5b6c22.jpg', 'drowsiness_detection_fold_1/images_resize_test_input/alert_4_2f278950-3fff-11ee-bae6-00155d5b6c22.jpg', 'drowsiness_detection_fold_1/images_resize_test_input/alert_6_34501988-3fff-11ee-bae6-00155d5b6c22.jpg', 'drowsiness_detection_fold_1/images_resize_test_input/alert_5_1b4a26f4-3fff-11ee-bae6-00155d5b6c22.jpg', 'drowsiness_detection_fold_1/images_resize_test_input/alert_3_09f0d344-3fff-11ee-bae6-00155d5b6c22.jpg', 'drowsiness_detection_fold_1/images_resize_test_input/alert_2_fe1f0f90-3ffe-11ee-bae6-00155d5b6c22.jpg', 'drowsiness_detection_fold_1/images_resize_test_input/alert_5_1bca2782-3fff-11ee-bae6-00155d5b6c22.jpg', 'drowsiness_detection_fold_1/images_resize_test_input/alert_6_366d81b0-3fff-11ee-bae6-00155d5b6c22.jpg', 'drowsiness_detection_fold_1/images_resize_test_input/alert_5_1ae21d0c-3fff-11ee-bae6-00155d5b6c22.jpg', 'drowsiness_detection_fold_1/images_resize_test_input/alert_1_ea363f9e-3ffe-11ee-bae6-00155d5b6c22.jpg', 'drowsiness_detection_fold_1/images_resize_test_input/alert_1_e8ba9656-3ffe-11ee-bae6-00155d5b6c22.jpg', 'drowsiness_detection_fold_1/images_resize_test_input/alert_6_33fbe85e-3fff-11ee-bae6-00155d5b6c22.jpg', 'drowsiness_detection_fold_1/images_resize_test_input/alert_6_36cf0502-3fff-11ee-bae6-00155d5b6c22.jpg', 'drowsiness_detection_fold_1/images_resize_test_input/alert_4_2ee0ca38-3fff-11ee-bae6-00155d5b6c22.jpg', 'drowsiness_detection_fold_1/images_resize_test_input/alert_3_0c59b8e4-3fff-11ee-bae6-00155d5b6c22.jpg', 'drowsiness_detection_fold_1/images_resize_test_input/alert_3_0a130568-3fff-11ee-bae6-00155d5b6c22.jpg', 'drowsiness_detection_fold_1/images_resize_test_input/alert_5_1b3b49a4-3fff-11ee-bae6-00155d5b6c22.jpg', 'drowsiness_detection_fold_1/images_resize_test_input/alert_5_1b2324f0-3fff-11ee-bae6-00155d5b6c22.jpg', 'drowsiness_detection_fold_1/images_resize_test_input/alert_6_36b7b1ea-3fff-11ee-bae6-00155d5b6c22.jpg', 'drowsiness_detection_fold_1/images_resize_test_input/alert_1_e914be4c-3ffe-11ee-bae6-00155d5b6c22.jpg', 'drowsiness_detection_fold_1/images_resize_test_input/alert_6_33bf9368-3fff-11ee-bae6-00155d5b6c22.jpg', 'drowsiness_detection_fold_1/images_resize_test_input/alert_5_1b6acb2a-3fff-11ee-bae6-00155d5b6c22.jpg', 'drowsiness_detection_fold_1/images_resize_test_input/alert_5_1af1f5e2-3fff-11ee-bae6-00155d5b6c22.jpg', 'drowsiness_detection_fold_1/images_resize_test_input/alert_4_2ed0c462-3fff-11ee-bae6-00155d5b6c22.jpg', 'drowsiness_detection_fold_1/images_resize_test_input/alert_4_2f38bb94-3fff-11ee-bae6-00155d5b6c22.jpg', 'drowsiness_detection_fold_1/images_resize_test_input/alert_5_1ac28be0-3fff-11ee-bae6-00155d5b6c22.jpg', 'drowsiness_detection_fold_1/images_resize_test_input/alert_3_0a94d2dc-3fff-11ee-bae6-00155d5b6c22.jpg', 'drowsiness_detection_fold_1/images_resize_test_input/alert_3_0b06617c-3fff-11ee-bae6-00155d5b6c22.jpg', 'drowsiness_detection_fold_1/images_resize_test_input/alert_2_feafd390-3ffe-11ee-bae6-00155d5b6c22.jpg', 'drowsiness_detection_fold_1/images_resize_test_input/alert_5_1aff0afc-3fff-11ee-bae6-00155d5b6c22.jpg', 'drowsiness_detection_fold_1/images_resize_test_input/alert_5_1a7c7c54-3fff-11ee-bae6-00155d5b6c22.jpg', 'drowsiness_detection_fold_1/images_resize_test_input/alert_2_ff57de8c-3ffe-11ee-bae6-00155d5b6c22.jpg', 'drowsiness_detection_fold_1/images_resize_test_input/alert_2_fe541190-3ffe-11ee-bae6-00155d5b6c22.jpg', 'drowsiness_detection_fold_1/images_resize_test_input/alert_4_2edca2e6-3fff-11ee-bae6-00155d5b6c22.jpg', 'drowsiness_detection_fold_1/images_resize_test_input/alert_3_0bf81878-3fff-11ee-bae6-00155d5b6c22.jpg', 'drowsiness_detection_fold_1/images_resize_test_input/alert_2_00c5babe-3fff-11ee-bae6-00155d5b6c22.jpg', 'drowsiness_detection_fold_1/images_resize_test_input/alert_5_1bb7586e-3fff-11ee-bae6-00155d5b6c22.jpg', 'drowsiness_detection_fold_1/images_resize_test_input/alert_1_e8e718a2-3ffe-11ee-bae6-00155d5b6c22.jpg', 'drowsiness_detection_fold_1/images_resize_test_input/alert_4_2f11f0d6-3fff-11ee-bae6-00155d5b6c22.jpg', 'drowsiness_detection_fold_1/images_resize_test_input/alert_1_eb24ff94-3ffe-11ee-bae6-00155d5b6c22.jpg', 'drowsiness_detection_fold_1/images_resize_test_input/alert_5_1babcf4e-3fff-11ee-bae6-00155d5b6c22.jpg', 'drowsiness_detection_fold_1/images_resize_test_input/alert_1_ea565162-3ffe-11ee-bae6-00155d5b6c22.jpg', 'drowsiness_detection_fold_1/images_resize_test_input/alert_4_2efe9c52-3fff-11ee-bae6-00155d5b6c22.jpg', 'drowsiness_detection_fold_1/images_resize_test_input/alert_6_3766b6fe-3fff-11ee-bae6-00155d5b6c22.jpg', 'drowsiness_detection_fold_1/images_resize_test_input/alert_1_ec122094-3ffe-11ee-bae6-00155d5b6c22.jpg', 'drowsiness_detection_fold_1/images_resize_test_input/alert_4_2ee7a808-3fff-11ee-bae6-00155d5b6c22.jpg', 'drowsiness_detection_fold_1/images_resize_test_input/alert_2_011b27e2-3fff-11ee-bae6-00155d5b6c22.jpg', 'drowsiness_detection_fold_1/images_resize_test_input/alert_5_1b568ff2-3fff-11ee-bae6-00155d5b6c22.jpg', 'drowsiness_detection_fold_1/images_resize_test_input/alert_6_35f28ca8-3fff-11ee-bae6-00155d5b6c22.jpg', 'drowsiness_detection_fold_1/images_resize_test_input/alert_2_002311ec-3fff-11ee-bae6-00155d5b6c22.jpg', 'drowsiness_detection_fold_1/images_resize_test_input/alert_2_fe7b6538-3ffe-11ee-bae6-00155d5b6c22.jpg', 'drowsiness_detection_fold_1/images_resize_test_input/alert_4_2ed6f2ba-3fff-11ee-bae6-00155d5b6c22.jpg', 'drowsiness_detection_fold_1/images_resize_test_input/alert_1_eb83d06e-3ffe-11ee-bae6-00155d5b6c22.jpg', 'drowsiness_detection_fold_1/images_resize_test_input/alert_2_00717558-3fff-11ee-bae6-00155d5b6c22.jpg', 'drowsiness_detection_fold_1/images_resize_test_input/alert_6_378b1a8a-3fff-11ee-bae6-00155d5b6c22.jpg', 'drowsiness_detection_fold_1/images_resize_test_input/alert_2_01699062-3fff-11ee-bae6-00155d5b6c22.jpg', 'drowsiness_detection_fold_1/images_resize_test_input/alert_4_2f33b61c-3fff-11ee-bae6-00155d5b6c22.jpg']\n",
      "This function has generated a list of 126 images from directory drowsiness_detection_fold_1/images_resize_test_input\n"
     ]
    }
   ],
   "source": [
    "def generate_image_files_list(directory):\n",
    "    image_files_list = []\n",
    "    \n",
    "    for root, dirs, files in os.walk(directory):\n",
    "        for file in files:\n",
    "            # Check if the file has a video extension (you can add more extensions)\n",
    "            if file.lower().endswith(('.jpg', '.png', '.jpeg')):\n",
    "                image_files_list.append(os.path.join(root, file))\n",
    "    \n",
    "    return image_files_list\n",
    "\n",
    "## PUT YOUR INPUT DIRECTORY HERE ##\n",
    "INPUT_DIRECTORY_PATH = \"drowsiness_detection_fold_1/images_resize_test_input\"\n",
    "images_list = generate_image_files_list(INPUT_DIRECTORY_PATH)\n",
    "print(images_list)\n",
    "print(f\"This function has generated a list of {len(images_list)} images from directory '{INPUT_DIRECTORY_PATH}'.\")"
   ]
  },
  {
   "cell_type": "raw",
   "id": "4434a94e-28d0-49ac-8dd0-e241590b27e5",
   "metadata": {
    "jupyter": {
     "source_hidden": true
    },
    "scrolled": true
   },
   "source": [
    "from PIL import Image, ImageOps\n",
    "\n",
    "# Dictionary containing RGB tuples for colors.\n",
    "fill_color_RGB = {\n",
    "    'black': (0, 0, 0),\n",
    "    'white': (255, 255, 255)\n",
    "}  \n",
    "\n",
    "def resize_and_fill(image_path, output_path, size, fill_color=\"black\", quality=100):\n",
    "    \"\"\"\n",
    "    This function will loop through a folder of jpg images and return resized images with a colored background to make it square.\n",
    "    Target size is squared, so size=512 means images size is 512x512. Aspect ratio is maintained, so only the lesser dimension is \n",
    "    colored to fill in the square. fill_color can be 'black' or 'white'.\n",
    "    \"\"\"\n",
    "\n",
    "    # Open the image\n",
    "    image = Image.open(image_path)\n",
    "    # Calculate the dimensions for the square\n",
    "    target_size = (size, size)\n",
    "    # Resize the image to fit within the square, while keeping the aspect ratio\n",
    "    resized_image = ImageOps.fit(image, target_size, method=0, bleed=0.0, centering=(0.5, 0.5))\n",
    "    # Create a new image with the specified background color\n",
    "    new_image = Image.new(\"RGB\", target_size, fill_color_RGB[fill_color])\n",
    "    # Paste the resized image onto the new image, centered\n",
    "    new_image.paste(resized_image, ((target_size[0] - resized_image.width) // 2, (target_size[1] - resized_image.height) // 2))\n",
    "    # Save the final image\n",
    "    new_image.save(output_path, format=\"JPEG\", quality=quality)\n",
    "\n",
    "OUTPUT_PATH_DIRECTORY = \"drowsiness_detection_fold_1/images_resize_test_output\"\n",
    "\n",
    "for input_image in images_list:\n",
    "    # Path to the input image, filename and extension.\n",
    "    input_image_name_only = input_image.replace('.jpg','').replace('.png','').replace('.jpeg', '')\n",
    "    print(input_image_name_only)\n",
    "    \n",
    "    # Path to save the output image\n",
    "    output_image = OUTPUT_PATH_DIRECTORY + input_image_name_only + \"sq\" + \".jpg\"\n",
    "    print(output_image_name)\n",
    "    # Desired size of the square\n",
    "    desired_size = 500\n",
    "    \n",
    "    # Call the function to resize, crop, and save the image\n",
    "    resize_and_fill(input_image, output_image, desired_size, \"black\", quality=100)"
   ]
  },
  {
   "cell_type": "code",
   "execution_count": null,
   "id": "77dc81c8-6493-4af8-a10c-eac051bf9c3c",
   "metadata": {},
   "outputs": [],
   "source": []
  },
  {
   "cell_type": "markdown",
   "id": "0c6270ad-42cb-41e8-9453-6761d9af30db",
   "metadata": {},
   "source": [
    "# This One Works:"
   ]
  },
  {
   "cell_type": "code",
   "execution_count": 1,
   "id": "2ed2bd23-034e-4533-8a68-b5bc8582e096",
   "metadata": {},
   "outputs": [
    {
     "name": "stdout",
     "output_type": "stream",
     "text": [
      "Image resizing and filling complete.\n"
     ]
    }
   ],
   "source": [
    "from PIL import Image\n",
    "import os\n",
    "\n",
    "start_time = time.time()\n",
    "\n",
    "\n",
    "def resize_and_fill(input_path, output_path, size, fill_color=(0, 0, 0)):\n",
    "    # Open the image\n",
    "    image = Image.open(input_path)\n",
    "    \n",
    "    # Calculate the aspect ratio of the image\n",
    "    aspect_ratio = image.width / image.height\n",
    "    \n",
    "    # Determine the new dimensions while maintaining the aspect ratio\n",
    "    if aspect_ratio > 1:\n",
    "        new_width = size\n",
    "        new_height = int(size / aspect_ratio)\n",
    "    else:\n",
    "        new_width = int(size * aspect_ratio)\n",
    "        new_height = size\n",
    "    \n",
    "    # Resize the image while maintaining the aspect ratio\n",
    "    resized_image = image.resize((new_width, new_height), resample=Image.BILINEAR)\n",
    "    \n",
    "    # Create a new image with the specified background color\n",
    "    new_image = Image.new(\"RGB\", (size, size), fill_color)\n",
    "    \n",
    "    # Calculate the position to paste the resized image\n",
    "    paste_position = ((size - new_width) // 2, (size - new_height) // 2)\n",
    "    \n",
    "    # Paste the resized image onto the new image\n",
    "    new_image.paste(resized_image, paste_position)\n",
    "    \n",
    "    # Save the final image. Quality=100 because they are already compressed images from taking screenshots.\n",
    "    new_image.save(output_path, format=\"JPEG\", quality=100)\n",
    "\n",
    "######### UPDATE THESE VALUES FOR YOUR COMPUTER. USE THE SAME desired_size AS EVERYONE ELSE ######### \n",
    "# Input directory containing images\n",
    "input_directory = \"drowsiness_detection_fold_1/images\"\n",
    "# Output directory for resized images\n",
    "output_directory = \"drowsiness_detection_fold_1/images_resize_test_output\"\n",
    "# Desired size of the square\n",
    "desired_size = 640\n",
    "#####################################################################################################\n",
    "\n",
    "# Fill color (black in this example)\n",
    "fill_color = (0, 0, 0)\n",
    "\n",
    "# Create the output directory if it doesn't exist\n",
    "if not os.path.exists(output_directory):\n",
    "    os.makedirs(output_directory)\n",
    "\n",
    "# Loop through each image file in the input directory\n",
    "for file_name in os.listdir(input_directory):\n",
    "    if file_name.lower().endswith(('.jpg', '.jpeg', '.png')):\n",
    "        input_path = os.path.join(input_directory, file_name)\n",
    "        output_filename = os.path.splitext(file_name)[0] + \"_sq.jpg\"\n",
    "        output_path = os.path.join(output_directory, output_filename)\n",
    "        \n",
    "        # Resize and fill the image, then save it to the output directory\n",
    "        resize_and_fill(input_path, output_path, desired_size, fill_color)\n",
    "\n",
    "print(\"Image resizing and filling complete.\")\n",
    "\n",
    "# end_time = time.time()\n",
    "# execution_time = end_time - start_time\n",
    "# print(f\"Execution time: {execution_time:.4f} seconds\")\n"
   ]
  },
  {
   "cell_type": "code",
   "execution_count": null,
   "id": "1c7d00a0-25ed-49b1-8c61-153cc2464692",
   "metadata": {},
   "outputs": [],
   "source": []
  },
  {
   "cell_type": "code",
   "execution_count": null,
   "id": "99112aa2-370e-46b8-aa95-74ad1d4d5039",
   "metadata": {},
   "outputs": [],
   "source": []
  },
  {
   "cell_type": "code",
   "execution_count": null,
   "id": "e889a265-b342-46c2-8809-602880657ae0",
   "metadata": {},
   "outputs": [],
   "source": []
  },
  {
   "cell_type": "markdown",
   "id": "088be631-3523-4d03-83ba-4f488acdbe84",
   "metadata": {},
   "source": [
    "## Test code for cvs file-names:"
   ]
  },
  {
   "cell_type": "code",
   "execution_count": null,
   "id": "069fe85c-dffe-4eee-9db1-3a93f90f1382",
   "metadata": {},
   "outputs": [],
   "source": [
    "def generate_csv_name(directory):\n",
    "    video_files = []\n",
    "    \n",
    "    for root, dirs, files in os.walk(directory):\n",
    "        for file in files:\n",
    "            # Check if the file has a video extension (you can add more extensions)\n",
    "            if file.lower().endswith(('.mp4', '.avi', '.mkv', '.mov')):\n",
    "                folder_name = os.path.basename(root)\n",
    "                video_title = os.path.splitext(file)[0]  # Remove file extension\n",
    "                video_files.append((os.path.join(root, file), folder_name, video_title))\n",
    "                \n",
    "    \n",
    "    return video_files\n",
    "\n",
    "directory_path = \"videos_fold_1/\"\n",
    "video_tuples = get_video_files(directory_path)\n",
    "print(video_tuples)\n",
    "print(f\"You have {len(video_tuples)} videos in your list\")"
   ]
  }
 ],
 "metadata": {
  "kernelspec": {
   "display_name": "Python 3 (ipykernel)",
   "language": "python",
   "name": "python3"
  },
  "language_info": {
   "codemirror_mode": {
    "name": "ipython",
    "version": 3
   },
   "file_extension": ".py",
   "mimetype": "text/x-python",
   "name": "python",
   "nbconvert_exporter": "python",
   "pygments_lexer": "ipython3",
   "version": "3.10.6"
  }
 },
 "nbformat": 4,
 "nbformat_minor": 5
}
