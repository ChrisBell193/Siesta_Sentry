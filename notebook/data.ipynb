{
 "cells": [
  {
   "cell_type": "code",
   "execution_count": 2,
   "metadata": {},
   "outputs": [],
   "source": [
    "import uuid   # Unique identifier\n",
    "import os\n",
    "import time\n",
    "import cv2\n",
    "from PIL import Image"
   ]
  },
  {
   "cell_type": "code",
   "execution_count": 13,
   "metadata": {},
   "outputs": [],
   "source": [
    "def extract_equally_spaced_frames(video_path, output_folder,status_id, person_id, num_frames=21,):\n",
    "    cap = cv2.VideoCapture(video_path)\n",
    "    frame_count = int(cap.get(cv2.CAP_PROP_FRAME_COUNT))\n",
    "    frame_rate = cap.get(cv2.CAP_PROP_FPS)\n",
    "    skip_frames = int(frame_rate * 10)  # Skip the first 10 seconds\n",
    "    \n",
    "    if not os.path.exists(output_folder):\n",
    "        os.makedirs(output_folder)\n",
    "    \n",
    "    for i in range(num_frames):\n",
    "        frame_idx = skip_frames + (frame_count - skip_frames) * i // num_frames\n",
    "        cap.set(cv2.CAP_PROP_POS_FRAMES, frame_idx)\n",
    "        ret, frame = cap.read()\n",
    "        \n",
    "        if ret:\n",
    "            output_path = os.path.join(output_folder, status_id+'_'+person_id+'_'+str(uuid.uuid1())+'.jpg')\n",
    "            cv2.imwrite(output_path, frame)\n",
    "        \n",
    "        if cv2.waitKey(10) & 0xFF == ord('q'):\n",
    "                break\n",
    "    \n",
    "    cap.release()"
   ]
  },
  {
   "cell_type": "code",
   "execution_count": 26,
   "metadata": {},
   "outputs": [
    {
     "name": "stderr",
     "output_type": "stream",
     "text": [
      "OpenCV: Couldn't read video stream from file \"raw_data/46/10.m4v\"\n"
     ]
    }
   ],
   "source": [
    "status_num = ['0','5','10']\n",
    "status_dict ={\n",
    "    '0': 'alert',\n",
    "    '5': 'normal',\n",
    "    '10': 'drowsy'\n",
    "}\n",
    "for video in range(46,47):\n",
    "    for status in status_num:\n",
    "        video_path = os.path.join('raw_data','videos', str(video), status+'.m4v')\n",
    "        IMAGES_PATH = os.path.join('raw_data', 'images',status_dict[status])\n",
    "        extract_equally_spaced_frames(video_path, output_folder=IMAGES_PATH, num_frames=21, status_id=status_dict[status], person_id=str(video))"
   ]
  },
  {
   "cell_type": "code",
   "execution_count": 12,
   "metadata": {},
   "outputs": [],
   "source": [
    "def resize_and_fill(input_path, output_path, size, fill_color=(0, 0, 0)):\n",
    "    # Open the image\n",
    "    image = Image.open(input_path)\n",
    "    # Calculate the aspect ratio of the image\n",
    "    aspect_ratio = image.width / image.height\n",
    "    # Determine the new dimensions while maintaining the aspect ratio\n",
    "    if aspect_ratio > 1:\n",
    "        new_width = size\n",
    "        new_height = int(size / aspect_ratio)\n",
    "    else:\n",
    "        new_width = int(size * aspect_ratio)\n",
    "        new_height = size\n",
    "    # Resize the image while maintaining the aspect ratio\n",
    "    resized_image = image.resize((new_width, new_height), resample=Image.BILINEAR)\n",
    "    # Create a new image with the specified background color\n",
    "    new_image = Image.new(\"RGB\", (size, size), fill_color)\n",
    "    # Calculate the position to paste the resized image\n",
    "    paste_position = ((size - new_width) // 2, (size - new_height) // 2)\n",
    "    # Paste the resized image onto the new image\n",
    "    new_image.paste(resized_image, paste_position)\n",
    "    # Save the final image. Quality=100 because they are already compressed images from taking screenshots.\n",
    "    new_image.save(output_path, format=\"JPEG\", quality=100)\n",
    "\n"
   ]
  },
  {
   "cell_type": "code",
   "execution_count": 13,
   "metadata": {},
   "outputs": [
    {
     "name": "stdout",
     "output_type": "stream",
     "text": [
      "Image resizing and filling complete.\n",
      "Image resizing and filling complete.\n",
      "Image resizing and filling complete.\n"
     ]
    }
   ],
   "source": [
    "# Desired size of the square\n",
    "desired_size = 640\n",
    "# Fill color (black in this example)\n",
    "fill_color = (0, 0, 0)\n",
    "\n",
    "datasets = ['train', 'test', 'val']\n",
    "\n",
    "parent_directory = os.path.dirname(os.path.abspath(''))\n",
    "for dataset in datasets:\n",
    "\n",
    "    #Input directory\n",
    "    input_directory = os.path.join(parent_directory,'raw_data', 'raw_images',dataset)\n",
    "    # Output directory for resized images\n",
    "    output_directory = os.path.join(parent_directory,'raw_data', 'processed_images',dataset)\n",
    "    # Create the output directory if it doesn't exist\n",
    "    if not os.path.exists(output_directory):\n",
    "        os.makedirs(output_directory)\n",
    "    # Loop through each image file in the input directory\n",
    "    for file_name in os.listdir(input_directory):\n",
    "        if file_name.lower().endswith(('.jpg', '.jpeg', '.png')):\n",
    "            input_path = os.path.join(input_directory, file_name)\n",
    "            output_filename = os.path.splitext(file_name)[0] + \"_sq.jpg\"\n",
    "            output_path = os.path.join(output_directory, output_filename)\n",
    "            # Resize and fill the image, then save it to the output directory\n",
    "            resize_and_fill(input_path, output_path, desired_size, fill_color)\n",
    "    print(\"Image resizing and filling complete.\")"
   ]
  },
  {
   "cell_type": "code",
   "execution_count": 13,
   "metadata": {},
   "outputs": [],
   "source": [
    "def crop_to_square(image_path,output_path, target_size=640):\n",
    "    # Open the image\n",
    "    image = Image.open(image_path)\n",
    "    \n",
    "    # Get the original width and height of the image\n",
    "    width, height = image.size\n",
    "    \n",
    "    # Calculate the cropping coordinates to keep the center part\n",
    "    new_width = new_height = min(width, height)\n",
    "    left = (width - new_width) // 2\n",
    "    top = (height - new_height) // 2\n",
    "    right = left + new_width\n",
    "    bottom = top + new_height\n",
    "    \n",
    "    # Crop the image to the calculated coordinates\n",
    "    cropped_image = image.crop((left, top, right, bottom))\n",
    "    # Resize the cropped image to the target size\n",
    "    resized_image = cropped_image.resize((target_size, target_size), Image.BILINEAR)\n",
    "    resized_image.save(output_path, format=\"JPEG\", quality=100)\n",
    "  \n",
    "\n",
    "\n"
   ]
  },
  {
   "cell_type": "code",
   "execution_count": 14,
   "metadata": {},
   "outputs": [],
   "source": [
    "# Example usage\n",
    "parent_directory = os.path.dirname(os.path.abspath(''))\n",
    "input_image_path = os.path.join(parent_directory,'raw_data', '23')\n",
    "output_directory = os.path.join(parent_directory,'raw_data', 'processed_23',)\n",
    "\n",
    "\n",
    "for file_name in os.listdir(input_image_path):\n",
    "        if file_name.lower().endswith(('.jpg', '.jpeg', '.png')):\n",
    "            input_path = os.path.join(input_image_path, file_name)\n",
    "            output_filename = os.path.splitext(file_name)[0] + \"_sq.jpg\"\n",
    "            output_path = os.path.join(output_directory, output_filename)\n",
    "            # Resize and fill the image, then save it to the output directory\n",
    "            crop_to_square(input_path,output_path, target_size = 640)"
   ]
  },
  {
   "cell_type": "code",
   "execution_count": null,
   "metadata": {},
   "outputs": [],
   "source": []
  }
 ],
 "metadata": {
  "kernelspec": {
   "display_name": "Siesta_Sentry",
   "language": "python",
   "name": "python3"
  },
  "language_info": {
   "codemirror_mode": {
    "name": "ipython",
    "version": 3
   },
   "file_extension": ".py",
   "mimetype": "text/x-python",
   "name": "python",
   "nbconvert_exporter": "python",
   "pygments_lexer": "ipython3",
   "version": "3.10.6"
  },
  "orig_nbformat": 4
 },
 "nbformat": 4,
 "nbformat_minor": 2
}
